{
 "cells": [
  {
   "cell_type": "code",
   "execution_count": 1,
   "metadata": {
    "colab": {
     "base_uri": "https://localhost:8080/"
    },
    "id": "iyjFtXzE8tJy",
    "outputId": "de9658ac-2e79-4821-ccd1-4b2461f67162"
   },
   "outputs": [
    {
     "name": "stdout",
     "output_type": "stream",
     "text": [
      "\u001b[31mERROR: Could not install packages due to an EnvironmentError: [Errno 28] No queda espacio en el dispositivo\n",
      "\u001b[0m\n",
      "Collecting torch==1.8.1\n",
      "  Downloading torch-1.8.1-cp38-cp38-manylinux1_x86_64.whl (804.1 MB)\n",
      "\u001b[K     |████████████████████████████████| 804.1 MB 1.1 kB/s eta 0:00:0116     |███████████▎                    | 282.2 MB 620 kB/s eta 0:14:01     |███████████████                 | 375.5 MB 1.7 MB/s eta 0:04:16     |███████████████████████████▉    | 700.3 MB 1.5 MB/s eta 0:01:09\n",
      "\u001b[31mERROR: Could not install packages due to an EnvironmentError: [Errno 28] No queda espacio en el dispositivo\n",
      "\u001b[0m\n",
      "\u001b[?25h"
     ]
    },
    {
     "ename": "ModuleNotFoundError",
     "evalue": "No module named 'fastbook'",
     "output_type": "error",
     "traceback": [
      "\u001b[0;31m---------------------------------------------------------------------------\u001b[0m",
      "\u001b[0;31mModuleNotFoundError\u001b[0m                       Traceback (most recent call last)",
      "\u001b[0;32m<ipython-input-1-a12835c53679>\u001b[0m in \u001b[0;36m<module>\u001b[0;34m\u001b[0m\n\u001b[1;32m      1\u001b[0m \u001b[0mget_ipython\u001b[0m\u001b[0;34m(\u001b[0m\u001b[0;34m)\u001b[0m\u001b[0;34m.\u001b[0m\u001b[0msystem\u001b[0m\u001b[0;34m(\u001b[0m\u001b[0;34m'pip install -Uqq fastbook'\u001b[0m\u001b[0;34m)\u001b[0m\u001b[0;34m\u001b[0m\u001b[0;34m\u001b[0m\u001b[0m\n\u001b[1;32m      2\u001b[0m \u001b[0mget_ipython\u001b[0m\u001b[0;34m(\u001b[0m\u001b[0;34m)\u001b[0m\u001b[0;34m.\u001b[0m\u001b[0msystem\u001b[0m\u001b[0;34m(\u001b[0m\u001b[0;34m'pip install torch==1.8.1'\u001b[0m\u001b[0;34m)\u001b[0m\u001b[0;34m\u001b[0m\u001b[0;34m\u001b[0m\u001b[0m\n\u001b[0;32m----> 3\u001b[0;31m \u001b[0;32mimport\u001b[0m \u001b[0mfastbook\u001b[0m\u001b[0;34m\u001b[0m\u001b[0;34m\u001b[0m\u001b[0m\n\u001b[0m\u001b[1;32m      4\u001b[0m \u001b[0mfastbook\u001b[0m\u001b[0;34m.\u001b[0m\u001b[0msetup_book\u001b[0m\u001b[0;34m\u001b[0m\u001b[0;34m\u001b[0m\u001b[0m\n",
      "\u001b[0;31mModuleNotFoundError\u001b[0m: No module named 'fastbook'"
     ]
    }
   ],
   "source": [
    "!pip install -Uqq fastbook\n",
    "!pip install torch==1.8.1\n",
    "import fastbook\n",
    "fastbook.setup_book\n"
   ]
  },
  {
   "cell_type": "code",
   "execution_count": null,
   "metadata": {
    "colab": {
     "base_uri": "https://localhost:8080/",
     "height": 363
    },
    "id": "EJ8FC4UT5MCh",
    "outputId": "d90262a4-ecf1-4f5a-920e-8a33f308d18f"
   },
   "outputs": [],
   "source": [
    "from fastai.vision.all import *\n",
    "from fastbook import *\n",
    "\n",
    "matplotlib.rc('image', cmap='Greys')\n",
    "from torch.nn import sigmoid\n",
    "sig = Sigmoid()"
   ]
  },
  {
   "cell_type": "code",
   "execution_count": null,
   "metadata": {
    "id": "_KFbkfFt8Wge"
   },
   "outputs": [],
   "source": [
    "#Correct problem in the autocompletion of jupyter\n",
    "%config Completer.use_jedi = False"
   ]
  },
  {
   "cell_type": "code",
   "execution_count": null,
   "metadata": {
    "id": "yoGynJKH87qh"
   },
   "outputs": [],
   "source": [
    "torch.manual_seed(0)"
   ]
  },
  {
   "cell_type": "code",
   "execution_count": null,
   "metadata": {
    "id": "qSFRuTvi8kuf"
   },
   "outputs": [],
   "source": [
    "def read_set(path):\n",
    "  data=[None, None]\n",
    "  for i, num in enumerate(['3','7']):\n",
    "    data[i]= torch.stack([tensor(Image.open(o)) for o in (path/ num).ls()])\n",
    "    data[i]= data[i].float()/255\n",
    "  x = torch.cat(data).view(-1, 28 * 28)\n",
    "  y = tensor([1]*len(data[0]) + [0]*len(data[1])).unsqueeze(1)\n",
    "  return x, y\n",
    "\n",
    "def mse(pred, target):\n",
    "  return((pred-target)**2).mean().sqrt()\n",
    "\n",
    "def init_params(size, std=0.5):\n",
    "  return (torch.randn(size)*std).requires_grad_()\n",
    "\n",
    "def simple_net(xb, w1, b1, w2, b2):\n",
    "  \"\"\"\n",
    "  Simple model with 4 layers: lineal, ReLu, lineal and sigmoid\n",
    "  \"\"\"\n",
    "  res = xb@w1 + b1\n",
    "  res = res.max(tensor[0.0])\n",
    "  res = res@w2 + b2\n",
    "  return sig(res)\n",
    "\n",
    "def step(*var):\n",
    "  \"Adjustment of parameters given the gradient and learning rate \"\n",
    "  with torch.no_grad():\n",
    "    for v in var:\n",
    "      v.data -= lr * v.grad.data\n",
    "    for v in var:\n",
    "      v.grad.zero_()\n",
    "\n",
    "def report_epoch():\n",
    "  \"Loss and accuracy calculation over validation set\"\n",
    "  pred= simple_net(x_valid).float().mean()\n",
    "  loss = mse(pred, y_valid)\n",
    "  accus.append(accu)\n",
    "  print(f\"Epoch: {i} Loss: {loss.item():.6f} Accuracy: {accu.item(): .6F} \")\n",
    "  "
   ]
  },
  {
   "cell_type": "code",
   "execution_count": null,
   "metadata": {
    "id": "sqd1UtRO9BOP"
   },
   "outputs": [],
   "source": [
    "#Import datasets\n",
    "path = untar_data(URLs.MNIST_SAMPLE)\n",
    "\n",
    "x_train, y_train = make_dataset(path/'train')\n",
    "x_valid, y_valid = make_dataset(path/'valid')"
   ]
  },
  {
   "cell_type": "code",
   "execution_count": null,
   "metadata": {
    "id": "JgWStJQEZnzD"
   },
   "outputs": [],
   "source": [
    "x_train.shape, y_train_shape"
   ]
  },
  {
   "cell_type": "code",
   "execution_count": null,
   "metadata": {
    "id": "Z20jkr1vZt1V"
   },
   "outputs": [],
   "source": [
    "#Init params\n",
    "torch.manual_seed(0)\n",
    "n1 = 38 #Number of neurons in the first layer\n",
    "lr = 1e-4 #Learning rate\n",
    "\n",
    "w1 = init_params((28*28,n1))\n",
    "b1 = init_params(n1)\n",
    "w2 = init_params((n1,1))\n",
    "b2 = init_params(1)\n",
    "accus=[]"
   ]
  },
  {
   "cell_type": "code",
   "execution_count": null,
   "metadata": {
    "id": "N7CO5Vpmbe_Q"
   },
   "outputs": [],
   "source": [
    "#Training: predict, loss, grad and step\n",
    " for i in range(2000):                         #For every epoch\n",
    "   for x, y in train_dl:                       #For every mini-batch\n",
    "     pred = simple_net(x, w1, b1, w2, b2)      # 1) Predict\n",
    "     loss = mse(pred, y)                       # 2) Calculate loss\n",
    "     loss.backward()                           # 3) Calculate gradients\n",
    "     step(w1, b1, w2, b2)                      # 4) Step (adjust parameters)\n",
    "\n",
    "  if i%50 == 0: #Every 50 epochs report\n",
    "    report_epoch()"
   ]
  },
  {
   "cell_type": "code",
   "execution_count": null,
   "metadata": {
    "id": "4g_iyKzkdaI-"
   },
   "outputs": [],
   "source": [
    "plt.plot(range(len(accuss)), accus)\n",
    "plt.xlabel('Epoch / 10')\n",
    "plt.ylabel('Accuracy')"
   ]
  }
 ],
 "metadata": {
  "accelerator": "GPU",
  "colab": {
   "name": "neuralNetwork_scratch+fastai.ipynb",
   "provenance": []
  },
  "kernelspec": {
   "display_name": "Python 3",
   "language": "python",
   "name": "python3"
  },
  "language_info": {
   "codemirror_mode": {
    "name": "ipython",
    "version": 3
   },
   "file_extension": ".py",
   "mimetype": "text/x-python",
   "name": "python",
   "nbconvert_exporter": "python",
   "pygments_lexer": "ipython3",
   "version": "3.8.3"
  }
 },
 "nbformat": 4,
 "nbformat_minor": 1
}
