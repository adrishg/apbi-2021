{
  "nbformat": 4,
  "nbformat_minor": 0,
  "metadata": {
    "jupytext": {
      "split_at_heading": true
    },
    "kernelspec": {
      "display_name": "Python 3",
      "language": "python",
      "name": "python3"
    },
    "colab": {
      "name": "01_intro.ipynb",
      "provenance": [],
      "collapsed_sections": []
    },
    "widgets": {
      "application/vnd.jupyter.widget-state+json": {
        "e56c3aafdf03423e918bd2671930d38d": {
          "model_module": "@jupyter-widgets/controls",
          "model_name": "FileUploadModel",
          "state": {
            "_view_name": "FileUploadView",
            "_counter": 1,
            "style": "IPY_MODEL_642ddcac177f4ce99e4f9c0ac2f361f9",
            "_dom_classes": [],
            "description": "Upload",
            "multiple": false,
            "_model_name": "FileUploadModel",
            "data": [
              null
            ],
            "button_style": "",
            "_view_module": "@jupyter-widgets/controls",
            "_model_module_version": "1.5.0",
            "accept": "",
            "_view_count": null,
            "disabled": false,
            "_view_module_version": "1.5.0",
            "error": "",
            "description_tooltip": null,
            "metadata": [
              {
                "name": "domesticat.jpg",
                "type": "image/jpeg",
                "size": 789779,
                "lastModified": 1614117724675
              }
            ],
            "_model_module": "@jupyter-widgets/controls",
            "layout": "IPY_MODEL_b7a3cc24f91e48af860d2a6a6524a5c1",
            "icon": "upload"
          }
        },
        "642ddcac177f4ce99e4f9c0ac2f361f9": {
          "model_module": "@jupyter-widgets/controls",
          "model_name": "ButtonStyleModel",
          "state": {
            "_view_name": "StyleView",
            "_model_name": "ButtonStyleModel",
            "_view_module": "@jupyter-widgets/base",
            "_model_module_version": "1.5.0",
            "_view_count": null,
            "button_color": null,
            "font_weight": "",
            "_view_module_version": "1.2.0",
            "_model_module": "@jupyter-widgets/controls"
          }
        },
        "b7a3cc24f91e48af860d2a6a6524a5c1": {
          "model_module": "@jupyter-widgets/base",
          "model_name": "LayoutModel",
          "state": {
            "_view_name": "LayoutView",
            "grid_template_rows": null,
            "right": null,
            "justify_content": null,
            "_view_module": "@jupyter-widgets/base",
            "overflow": null,
            "_model_module_version": "1.2.0",
            "_view_count": null,
            "flex_flow": null,
            "width": null,
            "min_width": null,
            "border": null,
            "align_items": null,
            "bottom": null,
            "_model_module": "@jupyter-widgets/base",
            "top": null,
            "grid_column": null,
            "overflow_y": null,
            "overflow_x": null,
            "grid_auto_flow": null,
            "grid_area": null,
            "grid_template_columns": null,
            "flex": null,
            "_model_name": "LayoutModel",
            "justify_items": null,
            "grid_row": null,
            "max_height": null,
            "align_content": null,
            "visibility": null,
            "align_self": null,
            "height": null,
            "min_height": null,
            "padding": null,
            "grid_auto_rows": null,
            "grid_gap": null,
            "max_width": null,
            "order": null,
            "_view_module_version": "1.2.0",
            "grid_template_areas": null,
            "object_position": null,
            "object_fit": null,
            "grid_auto_columns": null,
            "margin": null,
            "display": null,
            "left": null
          }
        },
        "dbc1c05659054e1f9babb6ccfa95e082": {
          "model_module": "@jupyter-widgets/controls",
          "model_name": "HBoxModel",
          "state": {
            "_view_name": "HBoxView",
            "_dom_classes": [],
            "_model_name": "HBoxModel",
            "_view_module": "@jupyter-widgets/controls",
            "_model_module_version": "1.5.0",
            "_view_count": null,
            "_view_module_version": "1.5.0",
            "box_style": "",
            "layout": "IPY_MODEL_e144586ab4c94a49a183c730e22d2813",
            "_model_module": "@jupyter-widgets/controls",
            "children": [
              "IPY_MODEL_1ab1b10ee8b241108c367bc1579b7658",
              "IPY_MODEL_ab16f3ad554b44e69ebc1f977f870ffe"
            ]
          }
        },
        "e144586ab4c94a49a183c730e22d2813": {
          "model_module": "@jupyter-widgets/base",
          "model_name": "LayoutModel",
          "state": {
            "_view_name": "LayoutView",
            "grid_template_rows": null,
            "right": null,
            "justify_content": null,
            "_view_module": "@jupyter-widgets/base",
            "overflow": null,
            "_model_module_version": "1.2.0",
            "_view_count": null,
            "flex_flow": null,
            "width": null,
            "min_width": null,
            "border": null,
            "align_items": null,
            "bottom": null,
            "_model_module": "@jupyter-widgets/base",
            "top": null,
            "grid_column": null,
            "overflow_y": null,
            "overflow_x": null,
            "grid_auto_flow": null,
            "grid_area": null,
            "grid_template_columns": null,
            "flex": null,
            "_model_name": "LayoutModel",
            "justify_items": null,
            "grid_row": null,
            "max_height": null,
            "align_content": null,
            "visibility": null,
            "align_self": null,
            "height": null,
            "min_height": null,
            "padding": null,
            "grid_auto_rows": null,
            "grid_gap": null,
            "max_width": null,
            "order": null,
            "_view_module_version": "1.2.0",
            "grid_template_areas": null,
            "object_position": null,
            "object_fit": null,
            "grid_auto_columns": null,
            "margin": null,
            "display": null,
            "left": null
          }
        },
        "1ab1b10ee8b241108c367bc1579b7658": {
          "model_module": "@jupyter-widgets/controls",
          "model_name": "FloatProgressModel",
          "state": {
            "_view_name": "ProgressView",
            "style": "IPY_MODEL_570828b05f7a49b7891f57f29d054997",
            "_dom_classes": [],
            "description": "100%",
            "_model_name": "FloatProgressModel",
            "bar_style": "success",
            "max": 87306240,
            "_view_module": "@jupyter-widgets/controls",
            "_model_module_version": "1.5.0",
            "value": 87306240,
            "_view_count": null,
            "_view_module_version": "1.5.0",
            "orientation": "horizontal",
            "min": 0,
            "description_tooltip": null,
            "_model_module": "@jupyter-widgets/controls",
            "layout": "IPY_MODEL_f10333ae29f7499caafa30940d334859"
          }
        },
        "ab16f3ad554b44e69ebc1f977f870ffe": {
          "model_module": "@jupyter-widgets/controls",
          "model_name": "HTMLModel",
          "state": {
            "_view_name": "HTMLView",
            "style": "IPY_MODEL_5a5900e700744f8f97f36811a84c18d9",
            "_dom_classes": [],
            "description": "",
            "_model_name": "HTMLModel",
            "placeholder": "​",
            "_view_module": "@jupyter-widgets/controls",
            "_model_module_version": "1.5.0",
            "value": " 83.3M/83.3M [00:00&lt;00:00, 152MB/s]",
            "_view_count": null,
            "_view_module_version": "1.5.0",
            "description_tooltip": null,
            "_model_module": "@jupyter-widgets/controls",
            "layout": "IPY_MODEL_272b5fbba55c4d82be0b3e0b9d3b3e2e"
          }
        },
        "570828b05f7a49b7891f57f29d054997": {
          "model_module": "@jupyter-widgets/controls",
          "model_name": "ProgressStyleModel",
          "state": {
            "_view_name": "StyleView",
            "_model_name": "ProgressStyleModel",
            "description_width": "initial",
            "_view_module": "@jupyter-widgets/base",
            "_model_module_version": "1.5.0",
            "_view_count": null,
            "_view_module_version": "1.2.0",
            "bar_color": null,
            "_model_module": "@jupyter-widgets/controls"
          }
        },
        "f10333ae29f7499caafa30940d334859": {
          "model_module": "@jupyter-widgets/base",
          "model_name": "LayoutModel",
          "state": {
            "_view_name": "LayoutView",
            "grid_template_rows": null,
            "right": null,
            "justify_content": null,
            "_view_module": "@jupyter-widgets/base",
            "overflow": null,
            "_model_module_version": "1.2.0",
            "_view_count": null,
            "flex_flow": null,
            "width": null,
            "min_width": null,
            "border": null,
            "align_items": null,
            "bottom": null,
            "_model_module": "@jupyter-widgets/base",
            "top": null,
            "grid_column": null,
            "overflow_y": null,
            "overflow_x": null,
            "grid_auto_flow": null,
            "grid_area": null,
            "grid_template_columns": null,
            "flex": null,
            "_model_name": "LayoutModel",
            "justify_items": null,
            "grid_row": null,
            "max_height": null,
            "align_content": null,
            "visibility": null,
            "align_self": null,
            "height": null,
            "min_height": null,
            "padding": null,
            "grid_auto_rows": null,
            "grid_gap": null,
            "max_width": null,
            "order": null,
            "_view_module_version": "1.2.0",
            "grid_template_areas": null,
            "object_position": null,
            "object_fit": null,
            "grid_auto_columns": null,
            "margin": null,
            "display": null,
            "left": null
          }
        },
        "5a5900e700744f8f97f36811a84c18d9": {
          "model_module": "@jupyter-widgets/controls",
          "model_name": "DescriptionStyleModel",
          "state": {
            "_view_name": "StyleView",
            "_model_name": "DescriptionStyleModel",
            "description_width": "",
            "_view_module": "@jupyter-widgets/base",
            "_model_module_version": "1.5.0",
            "_view_count": null,
            "_view_module_version": "1.2.0",
            "_model_module": "@jupyter-widgets/controls"
          }
        },
        "272b5fbba55c4d82be0b3e0b9d3b3e2e": {
          "model_module": "@jupyter-widgets/base",
          "model_name": "LayoutModel",
          "state": {
            "_view_name": "LayoutView",
            "grid_template_rows": null,
            "right": null,
            "justify_content": null,
            "_view_module": "@jupyter-widgets/base",
            "overflow": null,
            "_model_module_version": "1.2.0",
            "_view_count": null,
            "flex_flow": null,
            "width": null,
            "min_width": null,
            "border": null,
            "align_items": null,
            "bottom": null,
            "_model_module": "@jupyter-widgets/base",
            "top": null,
            "grid_column": null,
            "overflow_y": null,
            "overflow_x": null,
            "grid_auto_flow": null,
            "grid_area": null,
            "grid_template_columns": null,
            "flex": null,
            "_model_name": "LayoutModel",
            "justify_items": null,
            "grid_row": null,
            "max_height": null,
            "align_content": null,
            "visibility": null,
            "align_self": null,
            "height": null,
            "min_height": null,
            "padding": null,
            "grid_auto_rows": null,
            "grid_gap": null,
            "max_width": null,
            "order": null,
            "_view_module_version": "1.2.0",
            "grid_template_areas": null,
            "object_position": null,
            "object_fit": null,
            "grid_auto_columns": null,
            "margin": null,
            "display": null,
            "left": null
          }
        }
      }
    },
    "accelerator": "GPU"
  },
  "cells": [
    {
      "cell_type": "code",
      "metadata": {
        "colab": {
          "base_uri": "https://localhost:8080/"
        },
        "id": "-tr-OCDhc3mQ",
        "outputId": "cee772da-e6dd-453a-a233-92f7e3c907aa"
      },
      "source": [
        "#hide\n",
        "!pip install -Uqq fastbook\n",
        "import fastbook\n",
        "fastbook.setup_book()"
      ],
      "execution_count": 1,
      "outputs": [
        {
          "output_type": "stream",
          "text": [
            "\u001b[K     |████████████████████████████████| 727kB 15.3MB/s \n",
            "\u001b[K     |████████████████████████████████| 1.2MB 51.9MB/s \n",
            "\u001b[K     |████████████████████████████████| 194kB 53.3MB/s \n",
            "\u001b[K     |████████████████████████████████| 51kB 8.8MB/s \n",
            "\u001b[K     |████████████████████████████████| 61kB 10.7MB/s \n",
            "\u001b[K     |████████████████████████████████| 51kB 9.6MB/s \n",
            "\u001b[?25hMounted at /content/gdrive\n"
          ],
          "name": "stdout"
        }
      ]
    },
    {
      "cell_type": "code",
      "metadata": {
        "id": "Nwxnx3aHc3mW"
      },
      "source": [
        "#hide\n",
        "from fastbook import *"
      ],
      "execution_count": 2,
      "outputs": []
    },
    {
      "cell_type": "code",
      "metadata": {
        "colab": {
          "base_uri": "https://localhost:8080/",
          "height": 138
        },
        "id": "iowoIz8Ec3mZ",
        "outputId": "3ea6f8f5-405a-45ae-f556-badd1e0ac061"
      },
      "source": [
        "# CLICK ME\n",
        "from fastai.vision.all import *\n",
        "path = untar_data(URLs.PETS)/'images'\n",
        "\n",
        "def is_cat(x): return x[0].isupper()\n",
        "dls = ImageDataLoaders.from_name_func(\n",
        "    path, get_image_files(path), valid_pct=0.2, seed=42,\n",
        "    label_func=is_cat, item_tfms=Resize(224))\n",
        "\n",
        "learn = cnn_learner(dls, resnet34, metrics=error_rate)\n",
        "learn.fine_tune(1)"
      ],
      "execution_count": 18,
      "outputs": [
        {
          "output_type": "display_data",
          "data": {
            "text/html": [
              "<table border=\"1\" class=\"dataframe\">\n",
              "  <thead>\n",
              "    <tr style=\"text-align: left;\">\n",
              "      <th>epoch</th>\n",
              "      <th>train_loss</th>\n",
              "      <th>valid_loss</th>\n",
              "      <th>error_rate</th>\n",
              "      <th>time</th>\n",
              "    </tr>\n",
              "  </thead>\n",
              "  <tbody>\n",
              "    <tr>\n",
              "      <td>0</td>\n",
              "      <td>0.180101</td>\n",
              "      <td>0.207032</td>\n",
              "      <td>0.059540</td>\n",
              "      <td>00:49</td>\n",
              "    </tr>\n",
              "  </tbody>\n",
              "</table>"
            ],
            "text/plain": [
              "<IPython.core.display.HTML object>"
            ]
          },
          "metadata": {
            "tags": []
          }
        },
        {
          "output_type": "display_data",
          "data": {
            "text/html": [
              "<table border=\"1\" class=\"dataframe\">\n",
              "  <thead>\n",
              "    <tr style=\"text-align: left;\">\n",
              "      <th>epoch</th>\n",
              "      <th>train_loss</th>\n",
              "      <th>valid_loss</th>\n",
              "      <th>error_rate</th>\n",
              "      <th>time</th>\n",
              "    </tr>\n",
              "  </thead>\n",
              "  <tbody>\n",
              "    <tr>\n",
              "      <td>0</td>\n",
              "      <td>0.060698</td>\n",
              "      <td>0.090895</td>\n",
              "      <td>0.036536</td>\n",
              "      <td>00:53</td>\n",
              "    </tr>\n",
              "  </tbody>\n",
              "</table>"
            ],
            "text/plain": [
              "<IPython.core.display.HTML object>"
            ]
          },
          "metadata": {
            "tags": []
          }
        }
      ]
    },
    {
      "cell_type": "markdown",
      "metadata": {
        "id": "p0aXqAzoc3mZ"
      },
      "source": [
        "### Sidebar: This Book Was Written in Jupyter Notebooks"
      ]
    },
    {
      "cell_type": "code",
      "metadata": {
        "id": "tTxD8kx1c3mZ"
      },
      "source": [
        "img = PILImage.create(image_cat())\n",
        "img.to_thumb(192)"
      ],
      "execution_count": null,
      "outputs": []
    },
    {
      "cell_type": "markdown",
      "metadata": {
        "id": "yfULaCaic3ma"
      },
      "source": [
        "### End sidebar"
      ]
    },
    {
      "cell_type": "code",
      "metadata": {
        "id": "-Oz0SOgFc3ma",
        "colab": {
          "base_uri": "https://localhost:8080/",
          "height": 49,
          "referenced_widgets": [
            "e56c3aafdf03423e918bd2671930d38d",
            "642ddcac177f4ce99e4f9c0ac2f361f9",
            "b7a3cc24f91e48af860d2a6a6524a5c1"
          ]
        },
        "outputId": "efc31c13-4297-489a-a135-092951fdc87c"
      },
      "source": [
        "uploader = widgets.FileUpload()\n",
        "uploader"
      ],
      "execution_count": 19,
      "outputs": [
        {
          "output_type": "display_data",
          "data": {
            "application/vnd.jupyter.widget-view+json": {
              "model_id": "e56c3aafdf03423e918bd2671930d38d",
              "version_minor": 0,
              "version_major": 2
            },
            "text/plain": [
              "FileUpload(value={}, description='Upload')"
            ]
          },
          "metadata": {
            "tags": []
          }
        }
      ]
    },
    {
      "cell_type": "code",
      "metadata": {
        "id": "mFs3uDbQc3ma"
      },
      "source": [
        "#hide\n",
        "# For the book, we can't actually click an upload button, so we fake it\n",
        "#uploader = SimpleNamespace(data = ['images/chapter1_cat_example.jpg'])#"
      ],
      "execution_count": null,
      "outputs": []
    },
    {
      "cell_type": "code",
      "metadata": {
        "id": "4mEJNcOWc3ma",
        "colab": {
          "base_uri": "https://localhost:8080/",
          "height": 53
        },
        "outputId": "83bae2a2-a8ec-4894-b14f-f766c5cf2e07"
      },
      "source": [
        "img = PILImage.create(uploader.data[0])\n",
        "is_cat,_,probs = learn.predict(img)\n",
        "print(f\"Is this a cat?: {is_cat}.\")\n",
        "print(f\"Probability it's a cat: {probs[1].item():.6f}\")"
      ],
      "execution_count": 20,
      "outputs": [
        {
          "output_type": "display_data",
          "data": {
            "text/html": [
              ""
            ],
            "text/plain": [
              "<IPython.core.display.HTML object>"
            ]
          },
          "metadata": {
            "tags": []
          }
        },
        {
          "output_type": "stream",
          "text": [
            "Is this a cat?: True.\n",
            "Probability it's a cat: 0.999999\n"
          ],
          "name": "stdout"
        }
      ]
    },
    {
      "cell_type": "markdown",
      "metadata": {
        "id": "hXoRg9efc3ma"
      },
      "source": [
        "### What Is Machine Learning?"
      ]
    },
    {
      "cell_type": "code",
      "metadata": {
        "id": "lU8sv1-9c3mb",
        "colab": {
          "base_uri": "https://localhost:8080/",
          "height": 98
        },
        "outputId": "f73a6db3-1da9-4b2c-fff0-8f94d5b442ca"
      },
      "source": [
        "gv('''program[shape=box3d width=1 height=0.7]\n",
        "inputs->program->results''')"
      ],
      "execution_count": 22,
      "outputs": [
        {
          "output_type": "execute_result",
          "data": {
            "text/plain": [
              "<graphviz.files.Source at 0x7f5782421450>"
            ],
            "image/svg+xml": "<?xml version=\"1.0\" encoding=\"UTF-8\" standalone=\"no\"?>\n<!DOCTYPE svg PUBLIC \"-//W3C//DTD SVG 1.1//EN\"\n \"http://www.w3.org/Graphics/SVG/1.1/DTD/svg11.dtd\">\n<!-- Generated by graphviz version 2.40.1 (20161225.0304)\n -->\n<!-- Title: G Pages: 1 -->\n<svg width=\"288pt\" height=\"58pt\"\n viewBox=\"0.00 0.00 288.49 58.00\" xmlns=\"http://www.w3.org/2000/svg\" xmlns:xlink=\"http://www.w3.org/1999/xlink\">\n<g id=\"graph0\" class=\"graph\" transform=\"scale(1 1) rotate(0) translate(4 54)\">\n<title>G</title>\n<polygon fill=\"#ffffff\" stroke=\"transparent\" points=\"-4,4 -4,-54 284.4879,-54 284.4879,4 -4,4\"/>\n<!-- program -->\n<g id=\"node1\" class=\"node\">\n<title>program</title>\n<polygon fill=\"none\" stroke=\"#000000\" points=\"175.594,-50 107.594,-50 103.594,-46 103.594,0 171.594,0 175.594,-4 175.594,-50\"/>\n<polyline fill=\"none\" stroke=\"#000000\" points=\"171.594,-46 103.594,-46 \"/>\n<polyline fill=\"none\" stroke=\"#000000\" points=\"171.594,-46 171.594,0 \"/>\n<polyline fill=\"none\" stroke=\"#000000\" points=\"171.594,-46 175.594,-50 \"/>\n<text text-anchor=\"middle\" x=\"139.594\" y=\"-21.3\" font-family=\"Times,serif\" font-size=\"14.00\" fill=\"#000000\">program</text>\n</g>\n<!-- results -->\n<g id=\"node3\" class=\"node\">\n<title>results</title>\n<ellipse fill=\"none\" stroke=\"#000000\" cx=\"246.0409\" cy=\"-25\" rx=\"34.394\" ry=\"18\"/>\n<text text-anchor=\"middle\" x=\"246.0409\" y=\"-21.3\" font-family=\"Times,serif\" font-size=\"14.00\" fill=\"#000000\">results</text>\n</g>\n<!-- program&#45;&gt;results -->\n<g id=\"edge2\" class=\"edge\">\n<title>program&#45;&gt;results</title>\n<path fill=\"none\" stroke=\"#000000\" d=\"M175.6321,-25C183.865,-25 192.7125,-25 201.2618,-25\"/>\n<polygon fill=\"#000000\" stroke=\"#000000\" points=\"201.4807,-28.5001 211.4807,-25 201.4806,-21.5001 201.4807,-28.5001\"/>\n</g>\n<!-- inputs -->\n<g id=\"node2\" class=\"node\">\n<title>inputs</title>\n<ellipse fill=\"none\" stroke=\"#000000\" cx=\"33.797\" cy=\"-25\" rx=\"33.5952\" ry=\"18\"/>\n<text text-anchor=\"middle\" x=\"33.797\" y=\"-21.3\" font-family=\"Times,serif\" font-size=\"14.00\" fill=\"#000000\">inputs</text>\n</g>\n<!-- inputs&#45;&gt;program -->\n<g id=\"edge1\" class=\"edge\">\n<title>inputs&#45;&gt;program</title>\n<path fill=\"none\" stroke=\"#000000\" d=\"M67.8542,-25C75.9278,-25 84.675,-25 93.1939,-25\"/>\n<polygon fill=\"#000000\" stroke=\"#000000\" points=\"93.4113,-28.5001 103.4113,-25 93.4112,-21.5001 93.4113,-28.5001\"/>\n</g>\n</g>\n</svg>\n"
          },
          "metadata": {
            "tags": []
          },
          "execution_count": 22
        }
      ]
    },
    {
      "cell_type": "code",
      "metadata": {
        "id": "ru52jWwCc3mb",
        "colab": {
          "base_uri": "https://localhost:8080/",
          "height": 151
        },
        "outputId": "b8799a61-c2e1-402c-c672-2f111bf3fe9c"
      },
      "source": [
        "gv('''model[shape=box3d width=1 height=0.7]\n",
        "inputs->model->results; weights->model''')"
      ],
      "execution_count": 23,
      "outputs": [
        {
          "output_type": "execute_result",
          "data": {
            "text/plain": [
              "<graphviz.files.Source at 0x7f578308be90>"
            ],
            "image/svg+xml": "<?xml version=\"1.0\" encoding=\"UTF-8\" standalone=\"no\"?>\n<!DOCTYPE svg PUBLIC \"-//W3C//DTD SVG 1.1//EN\"\n \"http://www.w3.org/Graphics/SVG/1.1/DTD/svg11.dtd\">\n<!-- Generated by graphviz version 2.40.1 (20161225.0304)\n -->\n<!-- Title: G Pages: 1 -->\n<svg width=\"300pt\" height=\"98pt\"\n viewBox=\"0.00 0.00 300.19 98.00\" xmlns=\"http://www.w3.org/2000/svg\" xmlns:xlink=\"http://www.w3.org/1999/xlink\">\n<g id=\"graph0\" class=\"graph\" transform=\"scale(1 1) rotate(0) translate(4 94)\">\n<title>G</title>\n<polygon fill=\"#ffffff\" stroke=\"transparent\" points=\"-4,4 -4,-94 296.1869,-94 296.1869,4 -4,4\"/>\n<!-- model -->\n<g id=\"node1\" class=\"node\">\n<title>model</title>\n<polygon fill=\"none\" stroke=\"#000000\" points=\"187.293,-70 119.293,-70 115.293,-66 115.293,-20 183.293,-20 187.293,-24 187.293,-70\"/>\n<polyline fill=\"none\" stroke=\"#000000\" points=\"183.293,-66 115.293,-66 \"/>\n<polyline fill=\"none\" stroke=\"#000000\" points=\"183.293,-66 183.293,-20 \"/>\n<polyline fill=\"none\" stroke=\"#000000\" points=\"183.293,-66 187.293,-70 \"/>\n<text text-anchor=\"middle\" x=\"151.293\" y=\"-41.3\" font-family=\"Times,serif\" font-size=\"14.00\" fill=\"#000000\">model</text>\n</g>\n<!-- results -->\n<g id=\"node3\" class=\"node\">\n<title>results</title>\n<ellipse fill=\"none\" stroke=\"#000000\" cx=\"257.7399\" cy=\"-45\" rx=\"34.394\" ry=\"18\"/>\n<text text-anchor=\"middle\" x=\"257.7399\" y=\"-41.3\" font-family=\"Times,serif\" font-size=\"14.00\" fill=\"#000000\">results</text>\n</g>\n<!-- model&#45;&gt;results -->\n<g id=\"edge2\" class=\"edge\">\n<title>model&#45;&gt;results</title>\n<path fill=\"none\" stroke=\"#000000\" d=\"M187.331,-45C195.564,-45 204.4115,-45 212.9607,-45\"/>\n<polygon fill=\"#000000\" stroke=\"#000000\" points=\"213.1797,-48.5001 223.1796,-45 213.1796,-41.5001 213.1797,-48.5001\"/>\n</g>\n<!-- inputs -->\n<g id=\"node2\" class=\"node\">\n<title>inputs</title>\n<ellipse fill=\"none\" stroke=\"#000000\" cx=\"39.6465\" cy=\"-72\" rx=\"33.5952\" ry=\"18\"/>\n<text text-anchor=\"middle\" x=\"39.6465\" y=\"-68.3\" font-family=\"Times,serif\" font-size=\"14.00\" fill=\"#000000\">inputs</text>\n</g>\n<!-- inputs&#45;&gt;model -->\n<g id=\"edge1\" class=\"edge\">\n<title>inputs&#45;&gt;model</title>\n<path fill=\"none\" stroke=\"#000000\" d=\"M70.4499,-64.5507C81.133,-61.9671 93.3575,-59.0108 105.0104,-56.1927\"/>\n<polygon fill=\"#000000\" stroke=\"#000000\" points=\"106.1535,-59.5173 115.0506,-53.7647 104.508,-52.7134 106.1535,-59.5173\"/>\n</g>\n<!-- weights -->\n<g id=\"node4\" class=\"node\">\n<title>weights</title>\n<ellipse fill=\"none\" stroke=\"#000000\" cx=\"39.6465\" cy=\"-18\" rx=\"39.7935\" ry=\"18\"/>\n<text text-anchor=\"middle\" x=\"39.6465\" y=\"-14.3\" font-family=\"Times,serif\" font-size=\"14.00\" fill=\"#000000\">weights</text>\n</g>\n<!-- weights&#45;&gt;model -->\n<g id=\"edge3\" class=\"edge\">\n<title>weights&#45;&gt;model</title>\n<path fill=\"none\" stroke=\"#000000\" d=\"M74.6658,-26.4689C84.3542,-28.8119 95.0182,-31.3908 105.2321,-33.8609\"/>\n<polygon fill=\"#000000\" stroke=\"#000000\" points=\"104.7007,-37.3332 115.2433,-36.2819 106.3462,-30.5293 104.7007,-37.3332\"/>\n</g>\n</g>\n</svg>\n"
          },
          "metadata": {
            "tags": []
          },
          "execution_count": 23
        }
      ]
    },
    {
      "cell_type": "code",
      "metadata": {
        "id": "MTNoZlnLc3mb",
        "colab": {
          "base_uri": "https://localhost:8080/",
          "height": 151
        },
        "outputId": "688af284-c72e-4966-c99c-83d6b893b570"
      },
      "source": [
        "gv('''ordering=in\n",
        "model[shape=box3d width=1 height=0.7]\n",
        "inputs->model->results; weights->model; results->performance\n",
        "performance->weights[constraint=false label=update]''')"
      ],
      "execution_count": 24,
      "outputs": [
        {
          "output_type": "execute_result",
          "data": {
            "text/plain": [
              "<graphviz.files.Source at 0x7f5782400210>"
            ],
            "image/svg+xml": "<?xml version=\"1.0\" encoding=\"UTF-8\" standalone=\"no\"?>\n<!DOCTYPE svg PUBLIC \"-//W3C//DTD SVG 1.1//EN\"\n \"http://www.w3.org/Graphics/SVG/1.1/DTD/svg11.dtd\">\n<!-- Generated by graphviz version 2.40.1 (20161225.0304)\n -->\n<!-- Title: G Pages: 1 -->\n<svg width=\"492pt\" height=\"98pt\"\n viewBox=\"0.00 0.00 491.58 98.00\" xmlns=\"http://www.w3.org/2000/svg\" xmlns:xlink=\"http://www.w3.org/1999/xlink\">\n<g id=\"graph0\" class=\"graph\" transform=\"scale(1 1) rotate(0) translate(4 94)\">\n<title>G</title>\n<polygon fill=\"#ffffff\" stroke=\"transparent\" points=\"-4,4 -4,-94 487.5767,-94 487.5767,4 -4,4\"/>\n<!-- model -->\n<g id=\"node1\" class=\"node\">\n<title>model</title>\n<polygon fill=\"none\" stroke=\"#000000\" points=\"188.293,-77 120.293,-77 116.293,-73 116.293,-27 184.293,-27 188.293,-31 188.293,-77\"/>\n<polyline fill=\"none\" stroke=\"#000000\" points=\"184.293,-73 116.293,-73 \"/>\n<polyline fill=\"none\" stroke=\"#000000\" points=\"184.293,-73 184.293,-27 \"/>\n<polyline fill=\"none\" stroke=\"#000000\" points=\"184.293,-73 188.293,-77 \"/>\n<text text-anchor=\"middle\" x=\"152.293\" y=\"-48.3\" font-family=\"Times,serif\" font-size=\"14.00\" fill=\"#000000\">model</text>\n</g>\n<!-- results -->\n<g id=\"node3\" class=\"node\">\n<title>results</title>\n<ellipse fill=\"none\" stroke=\"#000000\" cx=\"297.7399\" cy=\"-52\" rx=\"34.394\" ry=\"18\"/>\n<text text-anchor=\"middle\" x=\"297.7399\" y=\"-48.3\" font-family=\"Times,serif\" font-size=\"14.00\" fill=\"#000000\">results</text>\n</g>\n<!-- model&#45;&gt;results -->\n<g id=\"edge2\" class=\"edge\">\n<title>model&#45;&gt;results</title>\n<path fill=\"none\" stroke=\"#000000\" d=\"M188.6202,-52C208.0549,-52 232.162,-52 252.7707,-52\"/>\n<polygon fill=\"#000000\" stroke=\"#000000\" points=\"252.8772,-55.5001 262.8772,-52 252.8771,-48.5001 252.8772,-55.5001\"/>\n</g>\n<!-- inputs -->\n<g id=\"node2\" class=\"node\">\n<title>inputs</title>\n<ellipse fill=\"none\" stroke=\"#000000\" cx=\"39.6465\" cy=\"-72\" rx=\"33.5952\" ry=\"18\"/>\n<text text-anchor=\"middle\" x=\"39.6465\" y=\"-68.3\" font-family=\"Times,serif\" font-size=\"14.00\" fill=\"#000000\">inputs</text>\n</g>\n<!-- inputs&#45;&gt;model -->\n<g id=\"edge1\" class=\"edge\">\n<title>inputs&#45;&gt;model</title>\n<path fill=\"none\" stroke=\"#000000\" d=\"M71.9264,-66.2688C82.5866,-64.3761 94.6614,-62.2323 106.1514,-60.1923\"/>\n<polygon fill=\"#000000\" stroke=\"#000000\" points=\"106.8137,-63.6295 116.0478,-58.4352 105.5899,-56.7373 106.8137,-63.6295\"/>\n</g>\n<!-- performance -->\n<g id=\"node5\" class=\"node\">\n<title>performance</title>\n<ellipse fill=\"none\" stroke=\"#000000\" cx=\"426.3818\" cy=\"-52\" rx=\"57.3905\" ry=\"18\"/>\n<text text-anchor=\"middle\" x=\"426.3818\" y=\"-48.3\" font-family=\"Times,serif\" font-size=\"14.00\" fill=\"#000000\">performance</text>\n</g>\n<!-- results&#45;&gt;performance -->\n<g id=\"edge4\" class=\"edge\">\n<title>results&#45;&gt;performance</title>\n<path fill=\"none\" stroke=\"#000000\" d=\"M332.2136,-52C340.5212,-52 349.6824,-52 358.93,-52\"/>\n<polygon fill=\"#000000\" stroke=\"#000000\" points=\"358.9624,-55.5001 368.9624,-52 358.9624,-48.5001 358.9624,-55.5001\"/>\n</g>\n<!-- weights -->\n<g id=\"node4\" class=\"node\">\n<title>weights</title>\n<ellipse fill=\"none\" stroke=\"#000000\" cx=\"39.6465\" cy=\"-18\" rx=\"39.7935\" ry=\"18\"/>\n<text text-anchor=\"middle\" x=\"39.6465\" y=\"-14.3\" font-family=\"Times,serif\" font-size=\"14.00\" fill=\"#000000\">weights</text>\n</g>\n<!-- weights&#45;&gt;model -->\n<g id=\"edge3\" class=\"edge\">\n<title>weights&#45;&gt;model</title>\n<path fill=\"none\" stroke=\"#000000\" d=\"M72.8349,-28.0172C83.3758,-31.1988 95.2252,-34.7753 106.4921,-38.1759\"/>\n<polygon fill=\"#000000\" stroke=\"#000000\" points=\"105.611,-41.5659 116.1958,-41.1048 107.6337,-34.8645 105.611,-41.5659\"/>\n</g>\n<!-- performance&#45;&gt;weights -->\n<g id=\"edge5\" class=\"edge\">\n<title>performance&#45;&gt;weights</title>\n<path fill=\"none\" stroke=\"#000000\" d=\"M387.4301,-38.6502C370.6367,-33.4674 350.6491,-28.053 332.1869,-25 247.7864,-11.0431 147.8468,-12.4185 89.3275,-14.9945\"/>\n<polygon fill=\"#000000\" stroke=\"#000000\" points=\"89.0716,-11.5026 79.247,-15.4684 89.4004,-18.4948 89.0716,-11.5026\"/>\n<text text-anchor=\"middle\" x=\"225.793\" y=\"-19.8\" font-family=\"Times,serif\" font-size=\"14.00\" fill=\"#000000\">update</text>\n</g>\n</g>\n</svg>\n"
          },
          "metadata": {
            "tags": []
          },
          "execution_count": 24
        }
      ]
    },
    {
      "cell_type": "code",
      "metadata": {
        "id": "6UeKkgPec3mb",
        "colab": {
          "base_uri": "https://localhost:8080/",
          "height": 98
        },
        "outputId": "99d66304-4cad-4bd1-8345-384ec626ed2c"
      },
      "source": [
        "gv('''model[shape=box3d width=1 height=0.7]\n",
        "inputs->model->results''')"
      ],
      "execution_count": 25,
      "outputs": [
        {
          "output_type": "execute_result",
          "data": {
            "text/plain": [
              "<graphviz.files.Source at 0x7f5782400c10>"
            ],
            "image/svg+xml": "<?xml version=\"1.0\" encoding=\"UTF-8\" standalone=\"no\"?>\n<!DOCTYPE svg PUBLIC \"-//W3C//DTD SVG 1.1//EN\"\n \"http://www.w3.org/Graphics/SVG/1.1/DTD/svg11.dtd\">\n<!-- Generated by graphviz version 2.40.1 (20161225.0304)\n -->\n<!-- Title: G Pages: 1 -->\n<svg width=\"288pt\" height=\"58pt\"\n viewBox=\"0.00 0.00 288.49 58.00\" xmlns=\"http://www.w3.org/2000/svg\" xmlns:xlink=\"http://www.w3.org/1999/xlink\">\n<g id=\"graph0\" class=\"graph\" transform=\"scale(1 1) rotate(0) translate(4 54)\">\n<title>G</title>\n<polygon fill=\"#ffffff\" stroke=\"transparent\" points=\"-4,4 -4,-54 284.4879,-54 284.4879,4 -4,4\"/>\n<!-- model -->\n<g id=\"node1\" class=\"node\">\n<title>model</title>\n<polygon fill=\"none\" stroke=\"#000000\" points=\"175.594,-50 107.594,-50 103.594,-46 103.594,0 171.594,0 175.594,-4 175.594,-50\"/>\n<polyline fill=\"none\" stroke=\"#000000\" points=\"171.594,-46 103.594,-46 \"/>\n<polyline fill=\"none\" stroke=\"#000000\" points=\"171.594,-46 171.594,0 \"/>\n<polyline fill=\"none\" stroke=\"#000000\" points=\"171.594,-46 175.594,-50 \"/>\n<text text-anchor=\"middle\" x=\"139.594\" y=\"-21.3\" font-family=\"Times,serif\" font-size=\"14.00\" fill=\"#000000\">model</text>\n</g>\n<!-- results -->\n<g id=\"node3\" class=\"node\">\n<title>results</title>\n<ellipse fill=\"none\" stroke=\"#000000\" cx=\"246.0409\" cy=\"-25\" rx=\"34.394\" ry=\"18\"/>\n<text text-anchor=\"middle\" x=\"246.0409\" y=\"-21.3\" font-family=\"Times,serif\" font-size=\"14.00\" fill=\"#000000\">results</text>\n</g>\n<!-- model&#45;&gt;results -->\n<g id=\"edge2\" class=\"edge\">\n<title>model&#45;&gt;results</title>\n<path fill=\"none\" stroke=\"#000000\" d=\"M175.6321,-25C183.865,-25 192.7125,-25 201.2618,-25\"/>\n<polygon fill=\"#000000\" stroke=\"#000000\" points=\"201.4807,-28.5001 211.4807,-25 201.4806,-21.5001 201.4807,-28.5001\"/>\n</g>\n<!-- inputs -->\n<g id=\"node2\" class=\"node\">\n<title>inputs</title>\n<ellipse fill=\"none\" stroke=\"#000000\" cx=\"33.797\" cy=\"-25\" rx=\"33.5952\" ry=\"18\"/>\n<text text-anchor=\"middle\" x=\"33.797\" y=\"-21.3\" font-family=\"Times,serif\" font-size=\"14.00\" fill=\"#000000\">inputs</text>\n</g>\n<!-- inputs&#45;&gt;model -->\n<g id=\"edge1\" class=\"edge\">\n<title>inputs&#45;&gt;model</title>\n<path fill=\"none\" stroke=\"#000000\" d=\"M67.8542,-25C75.9278,-25 84.675,-25 93.1939,-25\"/>\n<polygon fill=\"#000000\" stroke=\"#000000\" points=\"93.4113,-28.5001 103.4113,-25 93.4112,-21.5001 93.4113,-28.5001\"/>\n</g>\n</g>\n</svg>\n"
          },
          "metadata": {
            "tags": []
          },
          "execution_count": 25
        }
      ]
    },
    {
      "cell_type": "markdown",
      "metadata": {
        "id": "G7zCwipTc3mc"
      },
      "source": [
        "### What Is a Neural Network?"
      ]
    },
    {
      "cell_type": "markdown",
      "metadata": {
        "id": "2s3EJLDlc3mc"
      },
      "source": [
        "### A Bit of Deep Learning Jargon"
      ]
    },
    {
      "cell_type": "code",
      "metadata": {
        "id": "tp7aTfq6c3mc",
        "colab": {
          "base_uri": "https://localhost:8080/",
          "height": 201
        },
        "outputId": "00726933-5160-4eed-edaa-6671170dd49b"
      },
      "source": [
        "gv('''ordering=in\n",
        "model[shape=box3d width=1 height=0.7 label=architecture]\n",
        "inputs->model->predictions; parameters->model; labels->loss; predictions->loss\n",
        "loss->parameters[constraint=false label=update]''')"
      ],
      "execution_count": 21,
      "outputs": [
        {
          "output_type": "execute_result",
          "data": {
            "text/plain": [
              "<graphviz.files.Source at 0x7f578356d450>"
            ],
            "image/svg+xml": "<?xml version=\"1.0\" encoding=\"UTF-8\" standalone=\"no\"?>\n<!DOCTYPE svg PUBLIC \"-//W3C//DTD SVG 1.1//EN\"\n \"http://www.w3.org/Graphics/SVG/1.1/DTD/svg11.dtd\">\n<!-- Generated by graphviz version 2.40.1 (20161225.0304)\n -->\n<!-- Title: G Pages: 1 -->\n<svg width=\"497pt\" height=\"135pt\"\n viewBox=\"0.00 0.00 497.08 134.71\" xmlns=\"http://www.w3.org/2000/svg\" xmlns:xlink=\"http://www.w3.org/1999/xlink\">\n<g id=\"graph0\" class=\"graph\" transform=\"scale(1 1) rotate(0) translate(4 130.7121)\">\n<title>G</title>\n<polygon fill=\"#ffffff\" stroke=\"transparent\" points=\"-4,4 -4,-130.7121 493.0819,-130.7121 493.0819,4 -4,4\"/>\n<!-- model -->\n<g id=\"node1\" class=\"node\">\n<title>model</title>\n<polygon fill=\"none\" stroke=\"#000000\" points=\"219.0911,-79.7121 141.0911,-79.7121 137.0911,-75.7121 137.0911,-29.7121 215.0911,-29.7121 219.0911,-33.7121 219.0911,-79.7121\"/>\n<polyline fill=\"none\" stroke=\"#000000\" points=\"215.0911,-75.7121 137.0911,-75.7121 \"/>\n<polyline fill=\"none\" stroke=\"#000000\" points=\"215.0911,-75.7121 215.0911,-29.7121 \"/>\n<polyline fill=\"none\" stroke=\"#000000\" points=\"215.0911,-75.7121 219.0911,-79.7121 \"/>\n<text text-anchor=\"middle\" x=\"178.0911\" y=\"-51.0121\" font-family=\"Times,serif\" font-size=\"14.00\" fill=\"#000000\">architecture</text>\n</g>\n<!-- predictions -->\n<g id=\"node3\" class=\"node\">\n<title>predictions</title>\n<ellipse fill=\"none\" stroke=\"#000000\" cx=\"346.0865\" cy=\"-54.7121\" rx=\"51.9908\" ry=\"18\"/>\n<text text-anchor=\"middle\" x=\"346.0865\" y=\"-51.0121\" font-family=\"Times,serif\" font-size=\"14.00\" fill=\"#000000\">predictions</text>\n</g>\n<!-- model&#45;&gt;predictions -->\n<g id=\"edge2\" class=\"edge\">\n<title>model&#45;&gt;predictions</title>\n<path fill=\"none\" stroke=\"#000000\" d=\"M219.1874,-54.7121C238.6424,-54.7121 262.2946,-54.7121 283.8833,-54.7121\"/>\n<polygon fill=\"#000000\" stroke=\"#000000\" points=\"283.9603,-58.2122 293.9603,-54.7121 283.9602,-51.2122 283.9603,-58.2122\"/>\n</g>\n<!-- inputs -->\n<g id=\"node2\" class=\"node\">\n<title>inputs</title>\n<ellipse fill=\"none\" stroke=\"#000000\" cx=\"50.0456\" cy=\"-74.7121\" rx=\"33.5952\" ry=\"18\"/>\n<text text-anchor=\"middle\" x=\"50.0456\" y=\"-71.0121\" font-family=\"Times,serif\" font-size=\"14.00\" fill=\"#000000\">inputs</text>\n</g>\n<!-- inputs&#45;&gt;model -->\n<g id=\"edge1\" class=\"edge\">\n<title>inputs&#45;&gt;model</title>\n<path fill=\"none\" stroke=\"#000000\" d=\"M82.6882,-69.6135C96.0531,-67.5259 111.8418,-65.0598 126.6879,-62.741\"/>\n<polygon fill=\"#000000\" stroke=\"#000000\" points=\"127.4339,-66.167 136.7739,-61.1656 126.3535,-59.2508 127.4339,-66.167\"/>\n</g>\n<!-- loss -->\n<g id=\"node6\" class=\"node\">\n<title>loss</title>\n<ellipse fill=\"none\" stroke=\"#000000\" cx=\"462.0819\" cy=\"-83.7121\" rx=\"27\" ry=\"18\"/>\n<text text-anchor=\"middle\" x=\"462.0819\" y=\"-80.0121\" font-family=\"Times,serif\" font-size=\"14.00\" fill=\"#000000\">loss</text>\n</g>\n<!-- predictions&#45;&gt;loss -->\n<g id=\"edge5\" class=\"edge\">\n<title>predictions&#45;&gt;loss</title>\n<path fill=\"none\" stroke=\"#000000\" d=\"M388.2916,-65.2638C400.9434,-68.4268 414.6806,-71.8613 426.8339,-74.8997\"/>\n<polygon fill=\"#000000\" stroke=\"#000000\" points=\"426.0613,-78.3142 436.6116,-77.3442 427.7592,-71.5232 426.0613,-78.3142\"/>\n</g>\n<!-- parameters -->\n<g id=\"node4\" class=\"node\">\n<title>parameters</title>\n<ellipse fill=\"none\" stroke=\"#000000\" cx=\"50.0456\" cy=\"-20.7121\" rx=\"50.0912\" ry=\"18\"/>\n<text text-anchor=\"middle\" x=\"50.0456\" y=\"-17.0121\" font-family=\"Times,serif\" font-size=\"14.00\" fill=\"#000000\">parameters</text>\n</g>\n<!-- parameters&#45;&gt;model -->\n<g id=\"edge3\" class=\"edge\">\n<title>parameters&#45;&gt;model</title>\n<path fill=\"none\" stroke=\"#000000\" d=\"M90.56,-31.4699C102.1226,-34.5401 114.8732,-37.9258 126.981,-41.1408\"/>\n<polygon fill=\"#000000\" stroke=\"#000000\" points=\"126.3968,-44.6069 136.9601,-43.7905 128.1933,-37.8413 126.3968,-44.6069\"/>\n</g>\n<!-- labels -->\n<g id=\"node5\" class=\"node\">\n<title>labels</title>\n<ellipse fill=\"none\" stroke=\"#000000\" cx=\"346.0865\" cy=\"-108.7121\" rx=\"31.6951\" ry=\"18\"/>\n<text text-anchor=\"middle\" x=\"346.0865\" y=\"-105.0121\" font-family=\"Times,serif\" font-size=\"14.00\" fill=\"#000000\">labels</text>\n</g>\n<!-- labels&#45;&gt;loss -->\n<g id=\"edge4\" class=\"edge\">\n<title>labels&#45;&gt;loss</title>\n<path fill=\"none\" stroke=\"#000000\" d=\"M375.9582,-102.2739C391.2661,-98.9747 410.0232,-94.932 426.1201,-91.4627\"/>\n<polygon fill=\"#000000\" stroke=\"#000000\" points=\"427.2129,-94.8077 436.251,-89.2793 425.738,-87.9648 427.2129,-94.8077\"/>\n</g>\n<!-- loss&#45;&gt;parameters -->\n<g id=\"edge6\" class=\"edge\">\n<title>loss&#45;&gt;parameters</title>\n<path fill=\"none\" stroke=\"#000000\" d=\"M449.2992,-67.6054C437.5844,-54.1999 418.9311,-36.0143 398.0819,-27.7121 300.2825,11.2323 174.4458,.4215 104.0015,-10.4665\"/>\n<polygon fill=\"#000000\" stroke=\"#000000\" points=\"103.3394,-7.0279 94.02,-12.0676 104.4481,-13.9396 103.3394,-7.0279\"/>\n<text text-anchor=\"middle\" x=\"256.5911\" y=\"-6.5121\" font-family=\"Times,serif\" font-size=\"14.00\" fill=\"#000000\">update</text>\n</g>\n</g>\n</svg>\n"
          },
          "metadata": {
            "tags": []
          },
          "execution_count": 21
        }
      ]
    },
    {
      "cell_type": "markdown",
      "metadata": {
        "id": "JMrYPqbdc3me"
      },
      "source": [
        "## Deep Learning Is Not Just for Image Classification"
      ]
    },
    {
      "cell_type": "code",
      "metadata": {
        "id": "_dixI-UYc3me",
        "colab": {
          "base_uri": "https://localhost:8080/",
          "height": 436,
          "referenced_widgets": [
            "dbc1c05659054e1f9babb6ccfa95e082",
            "e144586ab4c94a49a183c730e22d2813",
            "1ab1b10ee8b241108c367bc1579b7658",
            "ab16f3ad554b44e69ebc1f977f870ffe",
            "570828b05f7a49b7891f57f29d054997",
            "f10333ae29f7499caafa30940d334859",
            "5a5900e700744f8f97f36811a84c18d9",
            "272b5fbba55c4d82be0b3e0b9d3b3e2e"
          ]
        },
        "outputId": "2658ee81-d76b-4a93-b5ee-bb799c47c362"
      },
      "source": [
        "path = untar_data(URLs.CAMVID_TINY)\n",
        "dls = SegmentationDataLoaders.from_label_func(\n",
        "    path, bs=8, fnames = get_image_files(path/\"images\"),\n",
        "    label_func = lambda o: path/'labels'/f'{o.stem}_P{o.suffix}',\n",
        "    codes = np.loadtxt(path/'codes.txt', dtype=str)\n",
        ")\n",
        "\n",
        "learn = unet_learner(dls, resnet34)\n",
        "learn.fine_tune(8)"
      ],
      "execution_count": 7,
      "outputs": [
        {
          "output_type": "display_data",
          "data": {
            "text/html": [
              ""
            ],
            "text/plain": [
              "<IPython.core.display.HTML object>"
            ]
          },
          "metadata": {
            "tags": []
          }
        },
        {
          "output_type": "stream",
          "text": [
            "Downloading: \"https://download.pytorch.org/models/resnet34-333f7ec4.pth\" to /root/.cache/torch/hub/checkpoints/resnet34-333f7ec4.pth\n"
          ],
          "name": "stderr"
        },
        {
          "output_type": "display_data",
          "data": {
            "application/vnd.jupyter.widget-view+json": {
              "model_id": "dbc1c05659054e1f9babb6ccfa95e082",
              "version_minor": 0,
              "version_major": 2
            },
            "text/plain": [
              "HBox(children=(FloatProgress(value=0.0, max=87306240.0), HTML(value='')))"
            ]
          },
          "metadata": {
            "tags": []
          }
        },
        {
          "output_type": "stream",
          "text": [
            "\n"
          ],
          "name": "stdout"
        },
        {
          "output_type": "display_data",
          "data": {
            "text/html": [
              "<table border=\"1\" class=\"dataframe\">\n",
              "  <thead>\n",
              "    <tr style=\"text-align: left;\">\n",
              "      <th>epoch</th>\n",
              "      <th>train_loss</th>\n",
              "      <th>valid_loss</th>\n",
              "      <th>time</th>\n",
              "    </tr>\n",
              "  </thead>\n",
              "  <tbody>\n",
              "    <tr>\n",
              "      <td>0</td>\n",
              "      <td>3.484761</td>\n",
              "      <td>2.840193</td>\n",
              "      <td>00:01</td>\n",
              "    </tr>\n",
              "  </tbody>\n",
              "</table>"
            ],
            "text/plain": [
              "<IPython.core.display.HTML object>"
            ]
          },
          "metadata": {
            "tags": []
          }
        },
        {
          "output_type": "display_data",
          "data": {
            "text/html": [
              "<table border=\"1\" class=\"dataframe\">\n",
              "  <thead>\n",
              "    <tr style=\"text-align: left;\">\n",
              "      <th>epoch</th>\n",
              "      <th>train_loss</th>\n",
              "      <th>valid_loss</th>\n",
              "      <th>time</th>\n",
              "    </tr>\n",
              "  </thead>\n",
              "  <tbody>\n",
              "    <tr>\n",
              "      <td>0</td>\n",
              "      <td>2.003857</td>\n",
              "      <td>2.159832</td>\n",
              "      <td>00:01</td>\n",
              "    </tr>\n",
              "    <tr>\n",
              "      <td>1</td>\n",
              "      <td>1.744359</td>\n",
              "      <td>2.753011</td>\n",
              "      <td>00:01</td>\n",
              "    </tr>\n",
              "    <tr>\n",
              "      <td>2</td>\n",
              "      <td>1.562726</td>\n",
              "      <td>1.616677</td>\n",
              "      <td>00:01</td>\n",
              "    </tr>\n",
              "    <tr>\n",
              "      <td>3</td>\n",
              "      <td>1.402018</td>\n",
              "      <td>1.469394</td>\n",
              "      <td>00:01</td>\n",
              "    </tr>\n",
              "    <tr>\n",
              "      <td>4</td>\n",
              "      <td>1.261028</td>\n",
              "      <td>1.391007</td>\n",
              "      <td>00:01</td>\n",
              "    </tr>\n",
              "    <tr>\n",
              "      <td>5</td>\n",
              "      <td>1.139290</td>\n",
              "      <td>1.372302</td>\n",
              "      <td>00:01</td>\n",
              "    </tr>\n",
              "    <tr>\n",
              "      <td>6</td>\n",
              "      <td>1.037183</td>\n",
              "      <td>1.286494</td>\n",
              "      <td>00:01</td>\n",
              "    </tr>\n",
              "    <tr>\n",
              "      <td>7</td>\n",
              "      <td>0.956006</td>\n",
              "      <td>1.323755</td>\n",
              "      <td>00:01</td>\n",
              "    </tr>\n",
              "  </tbody>\n",
              "</table>"
            ],
            "text/plain": [
              "<IPython.core.display.HTML object>"
            ]
          },
          "metadata": {
            "tags": []
          }
        }
      ]
    },
    {
      "cell_type": "code",
      "metadata": {
        "id": "pgbqTyU_c3me",
        "colab": {
          "base_uri": "https://localhost:8080/",
          "height": 523
        },
        "outputId": "b3c39959-db9a-436f-bb66-22e042b007ef"
      },
      "source": [
        "learn.show_results(max_n=6, figsize=(7,8))"
      ],
      "execution_count": 8,
      "outputs": [
        {
          "output_type": "display_data",
          "data": {
            "text/html": [
              ""
            ],
            "text/plain": [
              "<IPython.core.display.HTML object>"
            ]
          },
          "metadata": {
            "tags": []
          }
        },
        {
          "output_type": "display_data",
          "data": {
            "image/png": "[encoded data removed]",
            "text/plain": [
              "<Figure size 504x576 with 12 Axes>"
            ]
          },
          "metadata": {
            "tags": [],
            "needs_background": "light"
          }
        }
      ]
    },
    {
      "cell_type": "code",
      "metadata": {
        "id": "xEfwy6Ucc3me",
        "colab": {
          "base_uri": "https://localhost:8080/",
          "height": 228
        },
        "outputId": "e9292acf-7a16-496e-decb-8fa8e77f0d5c"
      },
      "source": [
        "from fastai.text.all import *\n",
        "\n",
        "dls = TextDataLoaders.from_folder(untar_data(URLs.IMDB), valid='test')\n",
        "learn = text_classifier_learner(dls, AWD_LSTM, drop_mult=0.5, metrics=accuracy)\n",
        "learn.fine_tune(4, 1e-2)"
      ],
      "execution_count": 9,
      "outputs": [
        {
          "output_type": "display_data",
          "data": {
            "text/html": [
              ""
            ],
            "text/plain": [
              "<IPython.core.display.HTML object>"
            ]
          },
          "metadata": {
            "tags": []
          }
        },
        {
          "output_type": "display_data",
          "data": {
            "text/html": [
              ""
            ],
            "text/plain": [
              "<IPython.core.display.HTML object>"
            ]
          },
          "metadata": {
            "tags": []
          }
        },
        {
          "output_type": "display_data",
          "data": {
            "text/html": [
              ""
            ],
            "text/plain": [
              "<IPython.core.display.HTML object>"
            ]
          },
          "metadata": {
            "tags": []
          }
        },
        {
          "output_type": "display_data",
          "data": {
            "text/html": [
              "<table border=\"1\" class=\"dataframe\">\n",
              "  <thead>\n",
              "    <tr style=\"text-align: left;\">\n",
              "      <th>epoch</th>\n",
              "      <th>train_loss</th>\n",
              "      <th>valid_loss</th>\n",
              "      <th>accuracy</th>\n",
              "      <th>time</th>\n",
              "    </tr>\n",
              "  </thead>\n",
              "  <tbody>\n",
              "    <tr>\n",
              "      <td>0</td>\n",
              "      <td>0.462328</td>\n",
              "      <td>0.413737</td>\n",
              "      <td>0.815800</td>\n",
              "      <td>03:49</td>\n",
              "    </tr>\n",
              "  </tbody>\n",
              "</table>"
            ],
            "text/plain": [
              "<IPython.core.display.HTML object>"
            ]
          },
          "metadata": {
            "tags": []
          }
        },
        {
          "output_type": "display_data",
          "data": {
            "text/html": [
              "<table border=\"1\" class=\"dataframe\">\n",
              "  <thead>\n",
              "    <tr style=\"text-align: left;\">\n",
              "      <th>epoch</th>\n",
              "      <th>train_loss</th>\n",
              "      <th>valid_loss</th>\n",
              "      <th>accuracy</th>\n",
              "      <th>time</th>\n",
              "    </tr>\n",
              "  </thead>\n",
              "  <tbody>\n",
              "    <tr>\n",
              "      <td>0</td>\n",
              "      <td>0.308946</td>\n",
              "      <td>0.249034</td>\n",
              "      <td>0.896280</td>\n",
              "      <td>07:22</td>\n",
              "    </tr>\n",
              "    <tr>\n",
              "      <td>1</td>\n",
              "      <td>0.246223</td>\n",
              "      <td>0.202702</td>\n",
              "      <td>0.922520</td>\n",
              "      <td>07:23</td>\n",
              "    </tr>\n",
              "    <tr>\n",
              "      <td>2</td>\n",
              "      <td>0.177745</td>\n",
              "      <td>0.191935</td>\n",
              "      <td>0.927680</td>\n",
              "      <td>07:24</td>\n",
              "    </tr>\n",
              "    <tr>\n",
              "      <td>3</td>\n",
              "      <td>0.143667</td>\n",
              "      <td>0.194414</td>\n",
              "      <td>0.929000</td>\n",
              "      <td>07:24</td>\n",
              "    </tr>\n",
              "  </tbody>\n",
              "</table>"
            ],
            "text/plain": [
              "<IPython.core.display.HTML object>"
            ]
          },
          "metadata": {
            "tags": []
          }
        }
      ]
    },
    {
      "cell_type": "markdown",
      "metadata": {
        "id": "4A8Rgm6Yc3me"
      },
      "source": [
        "If you hit a \"CUDA out of memory error\" after running this cell, click on the menu Kernel, then restart. Instead of executing the cell above, copy and paste the following code in it:\n",
        "\n",
        "```\n",
        "from fastai.text.all import *\n",
        "\n",
        "dls = TextDataLoaders.from_folder(untar_data(URLs.IMDB), valid='test', bs=32)\n",
        "learn = text_classifier_learner(dls, AWD_LSTM, drop_mult=0.5, metrics=accuracy)\n",
        "learn.fine_tune(4, 1e-2)\n",
        "```\n",
        "\n",
        "This reduces the batch size to 32 (we will explain this later). If you keep hitting the same error, change 32 to 16."
      ]
    },
    {
      "cell_type": "code",
      "metadata": {
        "id": "farCYZodc3mf",
        "colab": {
          "base_uri": "https://localhost:8080/",
          "height": 35
        },
        "outputId": "605abfd6-e437-4a27-8572-e3c7c28ce001"
      },
      "source": [
        "learn.predict(\"I really liked that movie!\")"
      ],
      "execution_count": 10,
      "outputs": [
        {
          "output_type": "display_data",
          "data": {
            "text/html": [
              ""
            ],
            "text/plain": [
              "<IPython.core.display.HTML object>"
            ]
          },
          "metadata": {
            "tags": []
          }
        },
        {
          "output_type": "execute_result",
          "data": {
            "text/plain": [
              "('pos', tensor(1), tensor([0.0058, 0.9942]))"
            ]
          },
          "metadata": {
            "tags": []
          },
          "execution_count": 10
        }
      ]
    },
    {
      "cell_type": "markdown",
      "metadata": {
        "id": "Ej76bdKUc3mf"
      },
      "source": [
        "### Sidebar: The Order Matters"
      ]
    },
    {
      "cell_type": "markdown",
      "metadata": {
        "id": "5xv2MfLVc3mg"
      },
      "source": [
        "### End sidebar"
      ]
    },
    {
      "cell_type": "code",
      "metadata": {
        "id": "IzE6dvQoc3mg",
        "colab": {
          "base_uri": "https://localhost:8080/",
          "height": 17
        },
        "outputId": "d1c96e9f-be25-4066-94f6-e7b441ea2e08"
      },
      "source": [
        "from fastai.tabular.all import *\n",
        "path = untar_data(URLs.ADULT_SAMPLE)\n",
        "\n",
        "dls = TabularDataLoaders.from_csv(path/'adult.csv', path=path, y_names=\"salary\",\n",
        "    cat_names = ['workclass', 'education', 'marital-status', 'occupation',\n",
        "                 'relationship', 'race'],\n",
        "    cont_names = ['age', 'fnlwgt', 'education-num'],\n",
        "    procs = [Categorify, FillMissing, Normalize])\n",
        "\n",
        "learn = tabular_learner(dls, metrics=accuracy)"
      ],
      "execution_count": 3,
      "outputs": [
        {
          "output_type": "display_data",
          "data": {
            "text/html": [
              ""
            ],
            "text/plain": [
              "<IPython.core.display.HTML object>"
            ]
          },
          "metadata": {
            "tags": []
          }
        }
      ]
    },
    {
      "cell_type": "code",
      "metadata": {
        "id": "QmlH4gelc3mg",
        "colab": {
          "base_uri": "https://localhost:8080/",
          "height": 138
        },
        "outputId": "ed2e7055-a695-43b2-b8ec-edd5ff12b69f"
      },
      "source": [
        "learn.fit_one_cycle(3)"
      ],
      "execution_count": 4,
      "outputs": [
        {
          "output_type": "display_data",
          "data": {
            "text/html": [
              "<table border=\"1\" class=\"dataframe\">\n",
              "  <thead>\n",
              "    <tr style=\"text-align: left;\">\n",
              "      <th>epoch</th>\n",
              "      <th>train_loss</th>\n",
              "      <th>valid_loss</th>\n",
              "      <th>accuracy</th>\n",
              "      <th>time</th>\n",
              "    </tr>\n",
              "  </thead>\n",
              "  <tbody>\n",
              "    <tr>\n",
              "      <td>0</td>\n",
              "      <td>0.361275</td>\n",
              "      <td>0.365533</td>\n",
              "      <td>0.835227</td>\n",
              "      <td>00:04</td>\n",
              "    </tr>\n",
              "    <tr>\n",
              "      <td>1</td>\n",
              "      <td>0.348757</td>\n",
              "      <td>0.350311</td>\n",
              "      <td>0.840295</td>\n",
              "      <td>00:04</td>\n",
              "    </tr>\n",
              "    <tr>\n",
              "      <td>2</td>\n",
              "      <td>0.344826</td>\n",
              "      <td>0.348132</td>\n",
              "      <td>0.838759</td>\n",
              "      <td>00:04</td>\n",
              "    </tr>\n",
              "  </tbody>\n",
              "</table>"
            ],
            "text/plain": [
              "<IPython.core.display.HTML object>"
            ]
          },
          "metadata": {
            "tags": []
          }
        }
      ]
    },
    {
      "cell_type": "code",
      "metadata": {
        "id": "HUzz6txLc3mg",
        "colab": {
          "base_uri": "https://localhost:8080/",
          "height": 408
        },
        "outputId": "b40b2c80-a973-4436-c916-8cf8355bf894"
      },
      "source": [
        "from fastai.collab import *\n",
        "path = untar_data(URLs.ML_SAMPLE)\n",
        "dls = CollabDataLoaders.from_csv(path/'ratings.csv')\n",
        "learn = collab_learner(dls, y_range=(0.5,5.5))\n",
        "learn.fine_tune(10)"
      ],
      "execution_count": 5,
      "outputs": [
        {
          "output_type": "display_data",
          "data": {
            "text/html": [
              ""
            ],
            "text/plain": [
              "<IPython.core.display.HTML object>"
            ]
          },
          "metadata": {
            "tags": []
          }
        },
        {
          "output_type": "display_data",
          "data": {
            "text/html": [
              "<table border=\"1\" class=\"dataframe\">\n",
              "  <thead>\n",
              "    <tr style=\"text-align: left;\">\n",
              "      <th>epoch</th>\n",
              "      <th>train_loss</th>\n",
              "      <th>valid_loss</th>\n",
              "      <th>time</th>\n",
              "    </tr>\n",
              "  </thead>\n",
              "  <tbody>\n",
              "    <tr>\n",
              "      <td>0</td>\n",
              "      <td>1.497563</td>\n",
              "      <td>1.419108</td>\n",
              "      <td>00:00</td>\n",
              "    </tr>\n",
              "  </tbody>\n",
              "</table>"
            ],
            "text/plain": [
              "<IPython.core.display.HTML object>"
            ]
          },
          "metadata": {
            "tags": []
          }
        },
        {
          "output_type": "display_data",
          "data": {
            "text/html": [
              "<table border=\"1\" class=\"dataframe\">\n",
              "  <thead>\n",
              "    <tr style=\"text-align: left;\">\n",
              "      <th>epoch</th>\n",
              "      <th>train_loss</th>\n",
              "      <th>valid_loss</th>\n",
              "      <th>time</th>\n",
              "    </tr>\n",
              "  </thead>\n",
              "  <tbody>\n",
              "    <tr>\n",
              "      <td>0</td>\n",
              "      <td>1.348368</td>\n",
              "      <td>1.360463</td>\n",
              "      <td>00:00</td>\n",
              "    </tr>\n",
              "    <tr>\n",
              "      <td>1</td>\n",
              "      <td>1.248621</td>\n",
              "      <td>1.178440</td>\n",
              "      <td>00:00</td>\n",
              "    </tr>\n",
              "    <tr>\n",
              "      <td>2</td>\n",
              "      <td>1.010771</td>\n",
              "      <td>0.876555</td>\n",
              "      <td>00:00</td>\n",
              "    </tr>\n",
              "    <tr>\n",
              "      <td>3</td>\n",
              "      <td>0.791824</td>\n",
              "      <td>0.746206</td>\n",
              "      <td>00:00</td>\n",
              "    </tr>\n",
              "    <tr>\n",
              "      <td>4</td>\n",
              "      <td>0.690008</td>\n",
              "      <td>0.717330</td>\n",
              "      <td>00:00</td>\n",
              "    </tr>\n",
              "    <tr>\n",
              "      <td>5</td>\n",
              "      <td>0.641033</td>\n",
              "      <td>0.709639</td>\n",
              "      <td>00:00</td>\n",
              "    </tr>\n",
              "    <tr>\n",
              "      <td>6</td>\n",
              "      <td>0.629534</td>\n",
              "      <td>0.706519</td>\n",
              "      <td>00:00</td>\n",
              "    </tr>\n",
              "    <tr>\n",
              "      <td>7</td>\n",
              "      <td>0.610997</td>\n",
              "      <td>0.704522</td>\n",
              "      <td>00:00</td>\n",
              "    </tr>\n",
              "    <tr>\n",
              "      <td>8</td>\n",
              "      <td>0.603987</td>\n",
              "      <td>0.703974</td>\n",
              "      <td>00:00</td>\n",
              "    </tr>\n",
              "    <tr>\n",
              "      <td>9</td>\n",
              "      <td>0.603293</td>\n",
              "      <td>0.703902</td>\n",
              "      <td>00:00</td>\n",
              "    </tr>\n",
              "  </tbody>\n",
              "</table>"
            ],
            "text/plain": [
              "<IPython.core.display.HTML object>"
            ]
          },
          "metadata": {
            "tags": []
          }
        }
      ]
    },
    {
      "cell_type": "code",
      "metadata": {
        "id": "pjZq-KW-c3mg",
        "colab": {
          "base_uri": "https://localhost:8080/",
          "height": 318
        },
        "outputId": "91eb24f1-1e15-4cb2-cbde-3c5d284ae5a2"
      },
      "source": [
        "learn.show_results()"
      ],
      "execution_count": 6,
      "outputs": [
        {
          "output_type": "display_data",
          "data": {
            "text/html": [
              ""
            ],
            "text/plain": [
              "<IPython.core.display.HTML object>"
            ]
          },
          "metadata": {
            "tags": []
          }
        },
        {
          "output_type": "display_data",
          "data": {
            "text/html": [
              "<table border=\"1\" class=\"dataframe\">\n",
              "  <thead>\n",
              "    <tr style=\"text-align: right;\">\n",
              "      <th></th>\n",
              "      <th>userId</th>\n",
              "      <th>movieId</th>\n",
              "      <th>rating</th>\n",
              "      <th>rating_pred</th>\n",
              "    </tr>\n",
              "  </thead>\n",
              "  <tbody>\n",
              "    <tr>\n",
              "      <th>0</th>\n",
              "      <td>44.0</td>\n",
              "      <td>72.0</td>\n",
              "      <td>5.0</td>\n",
              "      <td>3.459052</td>\n",
              "    </tr>\n",
              "    <tr>\n",
              "      <th>1</th>\n",
              "      <td>13.0</td>\n",
              "      <td>51.0</td>\n",
              "      <td>4.0</td>\n",
              "      <td>4.119844</td>\n",
              "    </tr>\n",
              "    <tr>\n",
              "      <th>2</th>\n",
              "      <td>62.0</td>\n",
              "      <td>65.0</td>\n",
              "      <td>4.0</td>\n",
              "      <td>3.665025</td>\n",
              "    </tr>\n",
              "    <tr>\n",
              "      <th>3</th>\n",
              "      <td>40.0</td>\n",
              "      <td>53.0</td>\n",
              "      <td>5.0</td>\n",
              "      <td>3.804961</td>\n",
              "    </tr>\n",
              "    <tr>\n",
              "      <th>4</th>\n",
              "      <td>19.0</td>\n",
              "      <td>16.0</td>\n",
              "      <td>4.5</td>\n",
              "      <td>4.498744</td>\n",
              "    </tr>\n",
              "    <tr>\n",
              "      <th>5</th>\n",
              "      <td>15.0</td>\n",
              "      <td>5.0</td>\n",
              "      <td>4.5</td>\n",
              "      <td>3.444189</td>\n",
              "    </tr>\n",
              "    <tr>\n",
              "      <th>6</th>\n",
              "      <td>83.0</td>\n",
              "      <td>10.0</td>\n",
              "      <td>2.0</td>\n",
              "      <td>2.451942</td>\n",
              "    </tr>\n",
              "    <tr>\n",
              "      <th>7</th>\n",
              "      <td>55.0</td>\n",
              "      <td>14.0</td>\n",
              "      <td>5.0</td>\n",
              "      <td>4.391811</td>\n",
              "    </tr>\n",
              "    <tr>\n",
              "      <th>8</th>\n",
              "      <td>63.0</td>\n",
              "      <td>26.0</td>\n",
              "      <td>3.0</td>\n",
              "      <td>2.967124</td>\n",
              "    </tr>\n",
              "  </tbody>\n",
              "</table>"
            ],
            "text/plain": [
              "<IPython.core.display.HTML object>"
            ]
          },
          "metadata": {
            "tags": []
          }
        }
      ]
    }
  ]
}